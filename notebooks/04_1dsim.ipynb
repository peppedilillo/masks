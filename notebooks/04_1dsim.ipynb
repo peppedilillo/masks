{
 "cells": [
  {
   "cell_type": "code",
   "execution_count": 12,
   "id": "53426c32",
   "metadata": {},
   "outputs": [],
   "source": [
    "import numpy as np\n",
    "import matplotlib.pyplot as plt"
   ]
  },
  {
   "cell_type": "markdown",
   "id": "4a1748f8",
   "metadata": {},
   "source": [
    "# Bright sources from 1-dimensional coded mask \n"
   ]
  },
  {
   "cell_type": "code",
   "execution_count": 13,
   "id": "d96f4f7e",
   "metadata": {},
   "outputs": [],
   "source": [
    "from sympy.ntheory.primetest import isprime\n",
    "from scipy.linalg import hankel\n",
    "\n",
    "def linear_ura(L):\n",
    "    assert(((L - 3) / 4).is_integer())\n",
    "    assert(isprime(L))\n",
    "    A = np.zeros(L).astype(int)\n",
    "    G = np.ones(L).astype(int) # decoding\n",
    "    A[np.unique(np.mod(np.arange(L) ** 2, L))] = 1\n",
    "    G[A == 0] = -1\n",
    "    return A, G\n",
    "\n",
    "def _pad(A):\n",
    "    n = int(len(A)/2)\n",
    "    return np.concatenate((A[-n:], A, A[:n]))\n",
    "\n",
    "def absorbed(photons, A):\n",
    "    n = len(A)\n",
    "    _A = _pad(A) \n",
    "    hankel_ura = hankel(_A[:n], _A[n - 1:])\n",
    "    return hankel_ura[photons[:, 0], photons[:, 1]] == 0\n",
    "\n",
    "def transport(photons, A):\n",
    "    transmitted = photons[~absorbed(photons, A)]\n",
    "    detector, _ = np.histogram(transmitted[:,1], bins=np.arange(len(A) + 1))\n",
    "    return detector\n",
    "\n",
    "def decode(detector, G):\n",
    "    assert(np.all(np.isin(np.unique(G), [1,-1])))\n",
    "    assert(len(G) == len(detector))\n",
    "    _G = _pad(G)\n",
    "    n = len(G)\n",
    "    norm = np.sum(G[G==1])\n",
    "    hankel_ura_decoding = hankel(_G[:n], _G[n - 1:])\n",
    "    return hankel_ura_decoding.dot(detector) #/ norm"
   ]
  },
  {
   "cell_type": "markdown",
   "id": "6619f0ca",
   "metadata": {},
   "source": [
    "We try a different approach:\n",
    "\n",
    "1. Build the mask. We implement a linear, cyclic URA aperture mask from a sequence with size `mask_size`, according the geometry of Gottesman 2007. This implies that the aperture mask will have appropriate padding resulting in dimension `2*mask_size - 1`.\n",
    "2. Simulate the background. We sample `nbackground` couples of integers between `0` and `mask_size`. Each couple represent one photons. The elements of one couple represent the photon's source direction and the intercept aperture element. Photons impacting on an open elements are propagated through and added to an array representing counts over different detector elements, while photons intercepting an opaque mask elements are stopped.\n",
    "3. Simulate a bright signal from some direction. The procedure of 2. is repeated for `nsignal` photons. However, these photons will have the first couple element fixed to a common random integer between `0` and `mask_size`.\n",
    "\n",
    "We'll keep track of the simulated photon counts by source direction in an array called \"source\"."
   ]
  },
  {
   "cell_type": "code",
   "execution_count": 14,
   "id": "7a5b3a69",
   "metadata": {},
   "outputs": [],
   "source": [
    "np.random.seed(42)"
   ]
  },
  {
   "cell_type": "code",
   "execution_count": 15,
   "id": "45c008b2",
   "metadata": {},
   "outputs": [],
   "source": [
    "mask_size = 7\n",
    "A, G = linear_ura(mask_size)"
   ]
  },
  {
   "cell_type": "code",
   "execution_count": 16,
   "id": "fc5f083a",
   "metadata": {},
   "outputs": [],
   "source": [
    "bkg_rate = 0\n",
    "\n",
    "nbackground = bkg_rate * mask_size\n",
    "background_photons = np.random.randint(mask_size, size = 2 * nbackground).reshape(-1, 2)"
   ]
  },
  {
   "cell_type": "code",
   "execution_count": 17,
   "id": "36fb97a1",
   "metadata": {},
   "outputs": [
    {
     "name": "stdout",
     "output_type": "stream",
     "text": [
      "bright signal with direction 6\n"
     ]
    }
   ],
   "source": [
    "nsignal = 3\n",
    "signal_dir = np.random.randint(mask_size)\n",
    "signal_photons = np.stack(\n",
    "    [\n",
    "        signal_dir*np.ones(nsignal).astype(int), \n",
    "        np.random.randint(mask_size, size = nsignal)\n",
    "    ], \n",
    "    axis = 1\n",
    ")\n",
    "print(f\"bright signal with direction {signal_dir}\")"
   ]
  },
  {
   "cell_type": "code",
   "execution_count": 18,
   "id": "1d99b399",
   "metadata": {},
   "outputs": [],
   "source": [
    "photons = np.concatenate((background_photons, signal_photons))\n",
    "detector = transport(photons, A)"
   ]
  },
  {
   "cell_type": "markdown",
   "id": "b658e725",
   "metadata": {},
   "source": [
    "Trying to decode the simulated detector through $S = G * D$ seems to result in garbage."
   ]
  },
  {
   "cell_type": "code",
   "execution_count": 19,
   "id": "2468f2fa",
   "metadata": {},
   "outputs": [
    {
     "name": "stdout",
     "output_type": "stream",
     "text": [
      "decoded: \t [ 0  2 -2  0  0  0  2] \n",
      "detector: \t [0 0 0 0 1 0 1] \n",
      "transmitted: \t [0 0 0 0 0 0 2] \n",
      "source: \t [0 0 0 0 0 0 3]\n"
     ]
    }
   ],
   "source": [
    "print(\n",
    "    \"decoded: \\t\", decode(detector, G),\n",
    "    \"\\ndetector: \\t\", detector, \n",
    "    \"\\ntransmitted: \\t\", np.histogram(photons[~absorbed(photons, A)][:,0], bins=np.arange(mask_size + 1))[0],\n",
    "    \"\\nsource: \\t\", np.histogram(photons[:,0], bins=np.arange(mask_size + 1))[0],\n",
    ")"
   ]
  },
  {
   "cell_type": "code",
   "execution_count": 20,
   "id": "3216498e",
   "metadata": {},
   "outputs": [
    {
     "data": {
      "image/png": "[encoded data removed]",
      "text/plain": [
       "<Figure size 700x300 with 1 Axes>"
      ]
     },
     "metadata": {},
     "output_type": "display_data"
    }
   ],
   "source": [
    "_transmitted = np.histogram(photons[~absorbed(photons, A)][:,0], bins=np.arange(mask_size + 1))[0]\n",
    "\n",
    "plt.figure(figsize=(7,3))\n",
    "plt.step(np.arange(mask_size), decode(detector, G), where=\"mid\", label=\"decoded\", c=\"k\")\n",
    "plt.step(np.arange(mask_size), _transmitted, where=\"mid\", label=\"source\", linestyle=\"dashed\", c=\"orange\")\n",
    "plt.axvline(signal_dir, c=\"orange\", label=\"signal\")\n",
    "plt.legend()\n",
    "plt.show()"
   ]
  },
  {
   "cell_type": "code",
   "execution_count": 9,
   "id": "6eadabf7",
   "metadata": {},
   "outputs": [],
   "source": [
    "def f(detector, A):\n",
    "    n = len(A)\n",
    "    _A = _pad(A)\n",
    "    hankel_ura = hankel(_A[:n], _A[n - 1:])\n",
    "    M = np.full((n, n), 0.5)\n",
    "    np.fill_diagonal(M, 1)\n",
    "    return np.linalg.solve(M, hankel_ura.dot(detector))"
   ]
  },
  {
   "cell_type": "code",
   "execution_count": 10,
   "id": "cf3cd911",
   "metadata": {},
   "outputs": [
    {
     "data": {
      "image/png": "[encoded data removed]",
      "text/plain": [
       "<Figure size 700x300 with 1 Axes>"
      ]
     },
     "metadata": {},
     "output_type": "display_data"
    }
   ],
   "source": [
    "_transmitted = np.histogram(photons[~absorbed(photons, A)][:,0], bins=np.arange(mask_size + 1))[0]\n",
    "\n",
    "plt.figure(figsize=(7,3))\n",
    "plt.step(np.arange(mask_size), f(detector, A), where=\"mid\", label=\"decoded-lossy\", c=\"purple\")\n",
    "plt.step(np.arange(mask_size), _transmitted, where=\"mid\", label=\"source\", linestyle=\"dashed\", c=\"orange\")\n",
    "plt.axvline(signal_dir, c=\"orange\", label=\"signal\")\n",
    "plt.legend()\n",
    "plt.show()"
   ]
  },
  {
   "cell_type": "code",
   "execution_count": 11,
   "id": "ced53eaf",
   "metadata": {},
   "outputs": [],
   "source": [
    "def f1(photons, detector, A):\n",
    "    n = len(A)\n",
    "    _A = _pad(A)\n",
    "    hankel_ura = hankel(_A[:n], _A[n - 1:])\n",
    "    t = photons[~absorbed(photons, A)]\n",
    "    c, _, _ = np.histogram2d(t[:,0], t[:,1], bins=np.arange(mask_size+ 1))\n",
    "    M = np.divide(\n",
    "        hankel_ura.dot(c.T), \n",
    "        np.sum(c, axis = 1), \n",
    "        where=(np.sum(c, axis = 1) !=0),\n",
    "    )\n",
    "    return np.linalg.solve(M, hankel_ura.dot(detector))"
   ]
  },
  {
   "cell_type": "code",
   "execution_count": 12,
   "id": "dd49596d",
   "metadata": {},
   "outputs": [
    {
     "data": {
      "image/png": "[encoded data removed]",
      "text/plain": [
       "<Figure size 700x300 with 1 Axes>"
      ]
     },
     "metadata": {},
     "output_type": "display_data"
    }
   ],
   "source": [
    "_transmitted = np.histogram(photons[~absorbed(photons, A)][:,0], bins=np.arange(mask_size + 1))[0]\n",
    "\n",
    "plt.figure(figsize=(7,3))\n",
    "plt.step(np.arange(mask_size), f1(photons[~absorbed(photons, A)], detector, A), where=\"mid\", label=\"decoded\", c=\"k\")\n",
    "plt.step(np.arange(mask_size), _transmitted, where=\"mid\", label=\"source\", linestyle=\"dashed\", c=\"orange\")\n",
    "plt.axvline(signal_dir, c=\"orange\", label=\"signal\")\n",
    "plt.legend()\n",
    "plt.show()"
   ]
  },
  {
   "cell_type": "code",
   "execution_count": null,
   "id": "cb27d4c1",
   "metadata": {},
   "outputs": [],
   "source": []
  }
 ],
 "metadata": {
  "kernelspec": {
   "display_name": "Python 3 (ipykernel)",
   "language": "python",
   "name": "python3"
  },
  "language_info": {
   "codemirror_mode": {
    "name": "ipython",
    "version": 3
   },
   "file_extension": ".py",
   "mimetype": "text/x-python",
   "name": "python",
   "nbconvert_exporter": "python",
   "pygments_lexer": "ipython3",
   "version": "3.9.13"
  }
 },
 "nbformat": 4,
 "nbformat_minor": 5
}
