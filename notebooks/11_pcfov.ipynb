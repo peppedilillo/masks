{
 "cells": [
  {
   "cell_type": "markdown",
   "id": "1c56c1cf9be16bec",
   "metadata": {},
   "source": [
    "# Partially coded field of view\n",
    "\n",
    "In this notebook we attempt to integrate PCFOV in our simplistic simulation and to adapt our reconstruction methods to it.\n",
    "\n",
    "## 1D masks recap\n",
    "\n",
    "Let's go back to 1D masks and Hankel formulation of the cross-correlation reconstruction. Consider this simple padded 1D URA pattern:"
   ]
  },
  {
   "cell_type": "code",
   "execution_count": 1,
   "id": "5ad8ae6995c817f",
   "metadata": {
    "ExecuteTime": {
     "end_time": "2024-10-22T16:09:01.427817Z",
     "start_time": "2024-10-22T16:09:01.423502Z"
    }
   },
   "outputs": [
    {
     "name": "stdout",
     "output_type": "stream",
     "text": [
      "mask pattern: [1 0 0 1 1 1 0 1 0 0 1 1 1]\n",
      "decoder pattern:[ 1 -1 -1  1  1  1 -1  1 -1 -1  1  1  1]\n"
     ]
    }
   ],
   "source": [
    "import numpy as np\n",
    "\n",
    "\n",
    "ura_cycle = np.array([1,1,1,0,1,0,0])\n",
    "ura_mask = np.concatenate((ura_cycle[-3:], ura_cycle, ura_cycle[:3]))\n",
    "decoding_mask = np.copy(ura_mask)\n",
    "decoding_mask[ura_mask == 0] = -1\n",
    "\n",
    "print(f\"mask pattern: {ura_mask}\\ndecoder pattern:{decoding_mask}\")"
   ]
  },
  {
   "cell_type": "markdown",
   "id": "c17580ecd8f8d585",
   "metadata": {},
   "source": [
    "The Hankel matrix a matrix composed by the 1-shifted whole pattern mask cycles:"
   ]
  },
  {
   "cell_type": "code",
   "execution_count": 2,
   "id": "b5c4183538f18774",
   "metadata": {
    "ExecuteTime": {
     "end_time": "2024-10-22T16:09:01.879434Z",
     "start_time": "2024-10-22T16:09:01.874514Z"
    }
   },
   "outputs": [
    {
     "data": {
      "text/plain": [
       "array([[1, 0, 0, 1, 1, 1, 0],\n",
       "       [0, 0, 1, 1, 1, 0, 1],\n",
       "       [0, 1, 1, 1, 0, 1, 0],\n",
       "       [1, 1, 1, 0, 1, 0, 0],\n",
       "       [1, 1, 0, 1, 0, 0, 1],\n",
       "       [1, 0, 1, 0, 0, 1, 1],\n",
       "       [0, 1, 0, 0, 1, 1, 1]])"
      ]
     },
     "execution_count": 2,
     "metadata": {},
     "output_type": "execute_result"
    }
   ],
   "source": [
    "from scipy.linalg import hankel\n",
    "\n",
    "hankel_ura_mask = hankel(ura_mask[:len(ura_cycle)], ura_mask[len(ura_cycle) - 1:])\n",
    "hankel_ura_mask"
   ]
  },
  {
   "cell_type": "markdown",
   "id": "b08e1b3106a3afa",
   "metadata": {},
   "source": [
    "The dot product of the mask Hankel matrix and of the decoded Hankel matrix is diagonal or, equivalently, the PSF is diagonal."
   ]
  },
  {
   "cell_type": "code",
   "execution_count": 3,
   "id": "476e1123f860959c",
   "metadata": {
    "ExecuteTime": {
     "end_time": "2024-10-22T16:09:02.362723Z",
     "start_time": "2024-10-22T16:09:02.355839Z"
    }
   },
   "outputs": [
    {
     "data": {
      "text/plain": [
       "array([[4, 0, 0, 0, 0, 0, 0],\n",
       "       [0, 4, 0, 0, 0, 0, 0],\n",
       "       [0, 0, 4, 0, 0, 0, 0],\n",
       "       [0, 0, 0, 4, 0, 0, 0],\n",
       "       [0, 0, 0, 0, 4, 0, 0],\n",
       "       [0, 0, 0, 0, 0, 4, 0],\n",
       "       [0, 0, 0, 0, 0, 0, 4]])"
      ]
     },
     "execution_count": 3,
     "metadata": {},
     "output_type": "execute_result"
    }
   ],
   "source": [
    "hankel_decoding = hankel(decoding_mask[:len(ura_cycle)], decoding_mask[len(ura_cycle) - 1:])\n",
    "np.dot(hankel_ura_mask, hankel_decoding)"
   ]
  },
  {
   "cell_type": "markdown",
   "id": "3138f6b0b447ae06",
   "metadata": {},
   "source": [
    "The detector image is formed by the dot product of the Hankel mask and the source."
   ]
  },
  {
   "cell_type": "code",
   "execution_count": 4,
   "id": "2d80ca2d70e6ce7c",
   "metadata": {
    "ExecuteTime": {
     "end_time": "2024-10-22T16:09:02.816447Z",
     "start_time": "2024-10-22T16:09:02.812695Z"
    }
   },
   "outputs": [
    {
     "data": {
      "text/plain": [
       "array([1, 1, 1, 0, 1, 0, 0])"
      ]
     },
     "execution_count": 4,
     "metadata": {},
     "output_type": "execute_result"
    }
   ],
   "source": [
    "source = np.array([0, 0, 0, 1, 0, 0, 0])\n",
    "detector = hankel_ura_mask.dot(source)\n",
    "detector"
   ]
  },
  {
   "cell_type": "markdown",
   "id": "785c59a135e09ee4",
   "metadata": {},
   "source": [
    "Similiarly, the cross-correlated source image (multiplied by a constant) is the dot product of the Hankel decoded and the detector:"
   ]
  },
  {
   "cell_type": "code",
   "execution_count": 5,
   "id": "f45bfcc9d972d653",
   "metadata": {
    "ExecuteTime": {
     "end_time": "2024-10-22T16:09:03.349937Z",
     "start_time": "2024-10-22T16:09:03.346487Z"
    }
   },
   "outputs": [
    {
     "data": {
      "text/plain": [
       "array([0, 0, 0, 4, 0, 0, 0])"
      ]
     },
     "execution_count": 5,
     "metadata": {},
     "output_type": "execute_result"
    }
   ],
   "source": [
    "source = hankel_decoding.dot(detector)\n",
    "source"
   ]
  },
  {
   "cell_type": "markdown",
   "id": "871254edea9a298e",
   "metadata": {},
   "source": [
    "## 1D masks - adding the PCFOV\n",
    "\n",
    "To include the PCFOV in our discussion, we pad the mask with a number of zeros equal to the length of the ura cycle minus one, on both sides."
   ]
  },
  {
   "cell_type": "code",
   "execution_count": 6,
   "id": "c14941ace6b997b2",
   "metadata": {
    "ExecuteTime": {
     "end_time": "2024-10-22T16:10:04.486202Z",
     "start_time": "2024-10-22T16:10:04.479163Z"
    }
   },
   "outputs": [
    {
     "data": {
      "text/plain": [
       "array([0., 0., 0., 0., 0., 0., 1., 0., 0., 1., 1., 1., 0., 1., 0., 0., 1.,\n",
       "       1., 1., 0., 0., 0., 0., 0., 0.])"
      ]
     },
     "execution_count": 6,
     "metadata": {},
     "output_type": "execute_result"
    }
   ],
   "source": [
    "zero_padding = np.zeros((len(ura_cycle) - 1))\n",
    "left_padding = ura_cycle[-(len(ura_cycle) // 2):] # the parenthesis are crucial here\n",
    "right_padding = ura_cycle[:len(ura_cycle) // 2]\n",
    "\n",
    "pcfov_mask = np.concatenate((zero_padding, left_padding, ura_cycle, right_padding, zero_padding))\n",
    "pcfov_mask"
   ]
  },
  {
   "cell_type": "markdown",
   "id": "2291a378d5c74118",
   "metadata": {},
   "source": [
    "What a drama, these are going to be large! So let's make a recap, we have:\n",
    "1. 25 mask elements\n",
    "2. 19 solvable sky direction\n",
    "3. 7 detector elements\n",
    "We are going to reconstruct a detector image (shape 7x1) by taking the dot product of a Hankel matrix and a source vector (19x1). This implies that the Hankel matrix should have dimension 7x19! To build the hankel matrix with scipy, we pass the first column and the last row."
   ]
  },
  {
   "cell_type": "code",
   "execution_count": 7,
   "id": "7f06342f1f632718",
   "metadata": {
    "ExecuteTime": {
     "end_time": "2024-10-22T16:10:11.663371Z",
     "start_time": "2024-10-22T16:10:11.654008Z"
    }
   },
   "outputs": [
    {
     "data": {
      "text/plain": [
       "array([[0., 0., 0., 0., 0., 0., 1., 0., 0., 1., 1., 1., 0., 1., 0., 0.,\n",
       "        1., 1., 1.],\n",
       "       [0., 0., 0., 0., 0., 1., 0., 0., 1., 1., 1., 0., 1., 0., 0., 1.,\n",
       "        1., 1., 0.],\n",
       "       [0., 0., 0., 0., 1., 0., 0., 1., 1., 1., 0., 1., 0., 0., 1., 1.,\n",
       "        1., 0., 0.],\n",
       "       [0., 0., 0., 1., 0., 0., 1., 1., 1., 0., 1., 0., 0., 1., 1., 1.,\n",
       "        0., 0., 0.],\n",
       "       [0., 0., 1., 0., 0., 1., 1., 1., 0., 1., 0., 0., 1., 1., 1., 0.,\n",
       "        0., 0., 0.],\n",
       "       [0., 1., 0., 0., 1., 1., 1., 0., 1., 0., 0., 1., 1., 1., 0., 0.,\n",
       "        0., 0., 0.],\n",
       "       [1., 0., 0., 1., 1., 1., 0., 1., 0., 0., 1., 1., 1., 0., 0., 0.,\n",
       "        0., 0., 0.]])"
      ]
     },
     "execution_count": 7,
     "metadata": {},
     "output_type": "execute_result"
    }
   ],
   "source": [
    "hankel_pcfov_mask = hankel(\n",
    "    pcfov_mask[:len(ura_cycle)],  # first column\n",
    "    pcfov_mask[-(len(pcfov_mask) - (len(ura_cycle) - 1)):],  # last row\n",
    ")\n",
    "hankel_pcfov_mask"
   ]
  },
  {
   "cell_type": "markdown",
   "id": "3d34af1a9576f1f6",
   "metadata": {},
   "source": [
    "Let's try to apply to the same source above."
   ]
  },
  {
   "cell_type": "code",
   "execution_count": 8,
   "id": "516969799708977d",
   "metadata": {
    "ExecuteTime": {
     "end_time": "2024-10-22T16:10:19.913965Z",
     "start_time": "2024-10-22T16:10:19.907885Z"
    }
   },
   "outputs": [
    {
     "data": {
      "text/plain": [
       "array([1., 1., 2., 1., 2., 0., 1.])"
      ]
     },
     "execution_count": 8,
     "metadata": {},
     "output_type": "execute_result"
    }
   ],
   "source": [
    "source = np.concat((zero_padding, np.array([0, 1, 0, 1, 0, 0, 0]), zero_padding))\n",
    "detector = hankel_pcfov_mask.dot(source)\n",
    "detector"
   ]
  },
  {
   "cell_type": "markdown",
   "id": "232bba6d66060669",
   "metadata": {},
   "source": [
    "We get the same detector image! Yuhu!\n",
    "\n",
    "Let's try with the \"leftmost\" source in the PCFOV."
   ]
  },
  {
   "cell_type": "code",
   "execution_count": 9,
   "id": "44c5834d56b44598",
   "metadata": {
    "ExecuteTime": {
     "end_time": "2024-10-22T16:10:22.240740Z",
     "start_time": "2024-10-22T16:10:22.235695Z"
    }
   },
   "outputs": [
    {
     "data": {
      "text/plain": [
       "array([0., 0., 0., 0., 0., 0., 1.])"
      ]
     },
     "execution_count": 9,
     "metadata": {},
     "output_type": "execute_result"
    }
   ],
   "source": [
    "source = np.zeros(19)\n",
    "source[0] = 1\n",
    "detector = hankel_pcfov_mask.dot(source)\n",
    "detector"
   ]
  },
  {
   "cell_type": "markdown",
   "id": "8d81754878b964a1",
   "metadata": {},
   "source": [
    "Understandably, the only detector element affected is the leftmost one."
   ]
  },
  {
   "cell_type": "markdown",
   "id": "d6f1f8910996a59d",
   "metadata": {},
   "source": [
    "Now the source image from the detector. My understanding is that the decoder should be modified to have zero padding on its border, exactly as we do with the mask."
   ]
  },
  {
   "cell_type": "code",
   "execution_count": 10,
   "id": "66a83e423097d599",
   "metadata": {
    "ExecuteTime": {
     "end_time": "2024-10-22T16:18:08.833536Z",
     "start_time": "2024-10-22T16:18:08.827781Z"
    }
   },
   "outputs": [
    {
     "data": {
      "text/plain": [
       "array([ 0.,  0.,  0.,  0.,  0.,  0.,  1., -1., -1.,  1.,  1.,  1., -1.,\n",
       "        1., -1., -1.,  1.,  1.,  1.,  0.,  0.,  0.,  0.,  0.,  0.])"
      ]
     },
     "execution_count": 10,
     "metadata": {},
     "output_type": "execute_result"
    }
   ],
   "source": [
    "decoder_cycle = ura_cycle.copy()\n",
    "decoder_cycle[decoder_cycle == 0] = -1\n",
    "\n",
    "zero_padding = np.zeros((len(ura_cycle) - 1))\n",
    "left_padding = decoder_cycle[-(len(ura_cycle) // 2):] # the parenthesis are crucial here\n",
    "right_padding = decoder_cycle[:len(ura_cycle) // 2]\n",
    "\n",
    "pcfov_decoder = np.concatenate((zero_padding, left_padding, decoder_cycle, right_padding, zero_padding))\n",
    "pcfov_decoder"
   ]
  },
  {
   "cell_type": "markdown",
   "id": "417243d4656aad61",
   "metadata": {},
   "source": [
    "Now to build the hankel matrix we should be careful: the shape of the hankel decoder should be equal to the shape of the transpose of the hankel mask. In our case this means that we need a 19x7 hankel decoder."
   ]
  },
  {
   "cell_type": "code",
   "execution_count": 11,
   "id": "98c8de84eb30e357",
   "metadata": {
    "ExecuteTime": {
     "end_time": "2024-10-22T16:19:43.125242Z",
     "start_time": "2024-10-22T16:19:43.119626Z"
    }
   },
   "outputs": [],
   "source": [
    "hankel_pcfov_decoder = hankel(\n",
    "    pcfov_decoder[:len(pcfov_mask) - (len(ura_cycle) - 1)],  # first column\n",
    "    pcfov_decoder[:-(len(pcfov_mask) - (len(ura_cycle)))],  # last row\n",
    ")"
   ]
  },
  {
   "cell_type": "code",
   "execution_count": 12,
   "id": "e23a96f46d0742cf",
   "metadata": {
    "ExecuteTime": {
     "end_time": "2024-10-22T16:19:44.162392Z",
     "start_time": "2024-10-22T16:19:44.157513Z"
    }
   },
   "outputs": [
    {
     "data": {
      "text/plain": [
       "array([[ 0.,  0.,  0.,  0.,  0.,  0.,  1.],\n",
       "       [ 0.,  0.,  0.,  0.,  0.,  1., -1.],\n",
       "       [ 0.,  0.,  0.,  0.,  1., -1., -1.],\n",
       "       [ 0.,  0.,  0.,  1., -1., -1.,  1.],\n",
       "       [ 0.,  0.,  1., -1., -1.,  1.,  1.],\n",
       "       [ 0.,  1., -1., -1.,  1.,  1.,  1.],\n",
       "       [ 1., -1., -1.,  1.,  1.,  1., -1.],\n",
       "       [-1., -1.,  1.,  1.,  1., -1.,  1.],\n",
       "       [-1.,  1.,  1.,  1., -1.,  1., -1.],\n",
       "       [ 1.,  1.,  1., -1.,  1., -1., -1.],\n",
       "       [ 1.,  1., -1.,  1., -1., -1.,  1.],\n",
       "       [ 1., -1.,  1., -1., -1.,  1.,  1.],\n",
       "       [-1.,  1., -1., -1.,  1.,  1.,  1.],\n",
       "       [ 1., -1., -1.,  1.,  1.,  1.,  0.],\n",
       "       [-1., -1.,  1.,  1.,  1.,  0.,  0.],\n",
       "       [-1.,  1.,  1.,  1.,  0.,  0.,  0.],\n",
       "       [ 1.,  1.,  1.,  0.,  0.,  0.,  0.],\n",
       "       [ 1.,  1.,  0.,  0.,  0.,  0.,  0.],\n",
       "       [ 1.,  0.,  0.,  0.,  0.,  0.,  1.]])"
      ]
     },
     "execution_count": 12,
     "metadata": {},
     "output_type": "execute_result"
    }
   ],
   "source": [
    "hankel_pcfov_decoder"
   ]
  },
  {
   "cell_type": "markdown",
   "id": "176bb35b9dc76d07",
   "metadata": {},
   "source": [
    "Let's test this first with a source in the FCFOV"
   ]
  },
  {
   "cell_type": "code",
   "execution_count": 44,
   "id": "7a7665c1d9c8c47a",
   "metadata": {
    "ExecuteTime": {
     "end_time": "2024-10-22T16:26:12.656272Z",
     "start_time": "2024-10-22T16:26:12.648900Z"
    }
   },
   "outputs": [
    {
     "data": {
      "text/plain": [
       "array([0., 0., 1., 1., 1., 0., 1.])"
      ]
     },
     "execution_count": 44,
     "metadata": {},
     "output_type": "execute_result"
    }
   ],
   "source": [
    "source = np.zeros(len(pcfov_mask) - len(ura_cycle) + 1)\n",
    "\n",
    "source[7] = 1 # defining the source location\n",
    "\n",
    "detector = hankel_pcfov_mask.dot(source)\n",
    "detector"
   ]
  },
  {
   "cell_type": "code",
   "execution_count": 45,
   "id": "ea8a06bbd4cf7253",
   "metadata": {
    "ExecuteTime": {
     "end_time": "2024-10-22T16:26:13.144228Z",
     "start_time": "2024-10-22T16:26:13.141442Z"
    }
   },
   "outputs": [
    {
     "data": {
      "text/plain": [
       "array([[ 1., -1.,  0.,  1.,  0.,  0.,  0.,  4.,  0.,  0.,  0.,  0.,  0.,\n",
       "         1.,  3.,  2.,  1.,  0.,  1.]])"
      ]
     },
     "execution_count": 45,
     "metadata": {},
     "output_type": "execute_result"
    }
   ],
   "source": [
    "source = hankel_pcfov_decoder.dot(np.c_[detector])\n",
    "source.T"
   ]
  },
  {
   "cell_type": "markdown",
   "id": "265c32e1c218cd66",
   "metadata": {},
   "source": [
    "Fantastic, here its! We can see the coding noise over the PCFOV part of the source sky, and the source in the fully-coded part of the sky.\n",
    "Let's try to see what happens with sources in the PCFOV.\n",
    "\n"
   ]
  },
  {
   "cell_type": "code",
   "execution_count": 46,
   "id": "9f792451c9ee1e72",
   "metadata": {
    "ExecuteTime": {
     "end_time": "2024-10-22T16:27:31.857459Z",
     "start_time": "2024-10-22T16:27:31.852680Z"
    }
   },
   "outputs": [
    {
     "data": {
      "text/plain": [
       "array([[ 0.,  0.,  1., -1., -1.,  1.,  1.,  1., -1.,  1., -1., -1.,  1.,\n",
       "         1.,  1.,  0.,  0.,  0.,  0.]])"
      ]
     },
     "execution_count": 46,
     "metadata": {},
     "output_type": "execute_result"
    }
   ],
   "source": [
    "source = np.zeros(len(pcfov_mask) - len(ura_cycle) + 1)\n",
    "source[2] = 1\n",
    "detector = hankel_pcfov_mask.dot(source)\n",
    "source = hankel_pcfov_decoder.dot(np.c_[detector])\n",
    "source.T"
   ]
  },
  {
   "cell_type": "markdown",
   "id": "d1d9e42dfaa8ad56",
   "metadata": {},
   "source": [
    "Look, we got the source in its right place, with ghosts of equal intensity in FCFOV!"
   ]
  },
  {
   "cell_type": "markdown",
   "id": "562668e05572d659",
   "metadata": {},
   "source": [
    "## From dot product to correlation\n",
    "\n",
    "Now that we know how to actually understand the matrices let's pass to the cross-correlation formalism with 1D signals. We generate a source in the FCFOV."
   ]
  },
  {
   "cell_type": "code",
   "execution_count": 87,
   "id": "7343fdca83e1a49f",
   "metadata": {
    "ExecuteTime": {
     "end_time": "2024-10-22T16:48:42.016226Z",
     "start_time": "2024-10-22T16:48:42.010438Z"
    }
   },
   "outputs": [],
   "source": [
    "source = np.zeros(len(pcfov_mask) - len(ura_cycle) + 1)\n",
    "\n",
    "source[9] = 10 # defining the source location"
   ]
  },
  {
   "cell_type": "markdown",
   "id": "610599c4872b44ab",
   "metadata": {},
   "source": [
    "The detector using Hankel matrices:"
   ]
  },
  {
   "cell_type": "code",
   "execution_count": 88,
   "id": "760b8a2b2fa022f8",
   "metadata": {
    "ExecuteTime": {
     "end_time": "2024-10-22T16:48:42.374234Z",
     "start_time": "2024-10-22T16:48:42.369163Z"
    }
   },
   "outputs": [
    {
     "data": {
      "text/plain": [
       "array([10., 10., 10.,  0., 10.,  0.,  0.])"
      ]
     },
     "execution_count": 88,
     "metadata": {},
     "output_type": "execute_result"
    }
   ],
   "source": [
    "detector = hankel_pcfov_mask.dot(source)\n",
    "detector"
   ]
  },
  {
   "cell_type": "markdown",
   "id": "cd2067ac76445fd5",
   "metadata": {},
   "source": [
    "We should be able to get the same result with correlation:"
   ]
  },
  {
   "cell_type": "code",
   "execution_count": 89,
   "id": "34b7e53aa3945764",
   "metadata": {
    "ExecuteTime": {
     "end_time": "2024-10-22T16:48:42.775258Z",
     "start_time": "2024-10-22T16:48:42.766389Z"
    }
   },
   "outputs": [
    {
     "data": {
      "text/plain": [
       "array([10., 10., 10.,  0., 10.,  0.,  0.])"
      ]
     },
     "execution_count": 89,
     "metadata": {},
     "output_type": "execute_result"
    }
   ],
   "source": [
    "from scipy.signal import correlate\n",
    "\n",
    "n = len(source)\n",
    "detector = correlate(pcfov_mask, source)[n-1: -n+1]\n",
    "detector"
   ]
  },
  {
   "cell_type": "markdown",
   "id": "e4ffc5509188f4e4",
   "metadata": {},
   "source": [
    "Here it is! For sky image reconstruction, this is what we get with Hankel matrices:"
   ]
  },
  {
   "cell_type": "code",
   "execution_count": 90,
   "id": "f86dd80f5910109f",
   "metadata": {
    "ExecuteTime": {
     "end_time": "2024-10-22T16:48:43.116737Z",
     "start_time": "2024-10-22T16:48:43.113299Z"
    }
   },
   "outputs": [
    {
     "data": {
      "text/plain": [
       "array([[  0.,   0.,  10., -10.,   0.,  10.,   0.,   0.,   0.,  40.,   0.,\n",
       "          0.,   0.,   0.,   0.,  10.,  30.,  20.,  10.]])"
      ]
     },
     "execution_count": 90,
     "metadata": {},
     "output_type": "execute_result"
    }
   ],
   "source": [
    "detector = hankel_pcfov_mask.dot(source)\n",
    "source = hankel_pcfov_decoder.dot(np.c_[detector])\n",
    "source.T"
   ]
  },
  {
   "cell_type": "markdown",
   "id": "2c9115997d6a74e7",
   "metadata": {},
   "source": [
    "With correlation:"
   ]
  },
  {
   "cell_type": "code",
   "execution_count": 91,
   "id": "19d8aa08322569cc",
   "metadata": {
    "ExecuteTime": {
     "end_time": "2024-10-22T16:49:13.163615Z",
     "start_time": "2024-10-22T16:49:13.154328Z"
    }
   },
   "outputs": [
    {
     "data": {
      "text/plain": [
       "array([  0.,   0.,  10., -10.,   0.,  10.,   0.,   0.,   0.,  40.,   0.,\n",
       "         0.,   0.,   0.,   0.,  10.,  30.,  20.,  10.])"
      ]
     },
     "execution_count": 91,
     "metadata": {},
     "output_type": "execute_result"
    }
   ],
   "source": [
    "n = len(detector)\n",
    "source = correlate(pcfov_decoder, detector)[n-1:-n+1]\n",
    "source"
   ]
  },
  {
   "cell_type": "markdown",
   "id": "a8b3f8859db2e74d",
   "metadata": {},
   "source": [
    "Note the `n` definition changed!"
   ]
  },
  {
   "cell_type": "code",
   "execution_count": 92,
   "id": "d73456b8-44fc-4115-95e0-ec22c17a1609",
   "metadata": {},
   "outputs": [
    {
     "data": {
      "text/plain": [
       "np.float64(120.0)"
      ]
     },
     "execution_count": 92,
     "metadata": {},
     "output_type": "execute_result"
    }
   ],
   "source": [
    "np.sum(source)"
   ]
  },
  {
   "cell_type": "markdown",
   "id": "184e953c-3f52-4c50-92d7-e47cb0b467c6",
   "metadata": {},
   "source": [
    "## 2D masks - PCFOV"
   ]
  },
  {
   "cell_type": "code",
   "execution_count": 22,
   "id": "01baf829-8878-45ab-b30d-eace198944b4",
   "metadata": {},
   "outputs": [],
   "source": [
    "from masks import ura, pad\n",
    "import numpy as np\n",
    "from scipy.signal import correlate\n",
    "import matplotlib.pyplot as plt"
   ]
  },
  {
   "cell_type": "code",
   "execution_count": 23,
   "id": "0add28fb-8df3-478a-9658-bf1709976da6",
   "metadata": {},
   "outputs": [],
   "source": [
    "len_x, len_y = 61, 59\n",
    "_mask, _decoder = ura(len_x, len_y)\n",
    "_mask, _decoder = pad(_mask), pad(_decoder) # wrap fundamental tile with repetitions on borders\n",
    "mask, decoder = map(lambda x: np.pad(\n",
    "        x,\n",
    "        pad_width = ((len_x - 1, len_x - 1), (len_y - 1, len_y - 1)),\n",
    "        mode=\"constant\",\n",
    "    ), (_mask, _decoder)) # pads with zero"
   ]
  },
  {
   "cell_type": "code",
   "execution_count": 24,
   "id": "3474e31a-2996-4ce1-ad8d-61e3bef225b0",
   "metadata": {},
   "outputs": [
    {
     "data": {
      "text/plain": [
       "<matplotlib.image.AxesImage at 0x11baa1ac0>"
      ]
     },
     "execution_count": 24,
     "metadata": {},
     "output_type": "execute_result"
    },
    {
     "data": {
      "image/png": "[encoded data removed]",
      "text/plain": [
       "<Figure size 640x480 with 1 Axes>"
      ]
     },
     "metadata": {},
     "output_type": "display_data"
    }
   ],
   "source": [
    "plt.imshow(mask)"
   ]
  },
  {
   "cell_type": "code",
   "execution_count": 29,
   "id": "0a0f9039-c137-44b5-8f26-22e55275ff23",
   "metadata": {},
   "outputs": [],
   "source": [
    "len_x_, len_y_ = mask.shape\n",
    "source = np.zeros((len_x_ - len_x + 1, len_y_ - len_y + 1))\n",
    "source[100, 100] = 10"
   ]
  },
  {
   "cell_type": "code",
   "execution_count": 33,
   "id": "b7366147-3931-495f-a4da-13258bba5029",
   "metadata": {},
   "outputs": [
    {
     "data": {
      "text/plain": [
       "(181, 175)"
      ]
     },
     "execution_count": 33,
     "metadata": {},
     "output_type": "execute_result"
    }
   ],
   "source": [
    "source.shape"
   ]
  },
  {
   "cell_type": "code",
   "execution_count": 30,
   "id": "c0ae4d71-d5fc-4a77-951b-fb34d9ba9dc3",
   "metadata": {},
   "outputs": [
    {
     "data": {
      "text/plain": [
       "<matplotlib.image.AxesImage at 0x11baf7320>"
      ]
     },
     "execution_count": 30,
     "metadata": {},
     "output_type": "execute_result"
    },
    {
     "data": {
      "image/png": "[encoded data removed]",
      "text/plain": [
       "<Figure size 640x480 with 1 Axes>"
      ]
     },
     "metadata": {},
     "output_type": "display_data"
    }
   ],
   "source": [
    "plt.imshow(source)"
   ]
  },
  {
   "cell_type": "code",
   "execution_count": 31,
   "id": "3980e312-8648-4d50-aead-a67a4c95e6e1",
   "metadata": {},
   "outputs": [],
   "source": [
    "n, m = source.shape\n",
    "detector = correlate(mask, source)[n - 1 : -n + 1, m - 1 : -m + 1]"
   ]
  },
  {
   "cell_type": "code",
   "execution_count": 32,
   "id": "4488b71f-34a8-4d83-86f2-fb0ba51bbdbb",
   "metadata": {},
   "outputs": [
    {
     "data": {
      "text/plain": [
       "<matplotlib.image.AxesImage at 0x11bbd8710>"
      ]
     },
     "execution_count": 32,
     "metadata": {},
     "output_type": "execute_result"
    },
    {
     "data": {
      "image/png": "[encoded data removed]",
      "text/plain": [
       "<Figure size 640x480 with 1 Axes>"
      ]
     },
     "metadata": {},
     "output_type": "display_data"
    }
   ],
   "source": [
    "plt.imshow(detector)"
   ]
  },
  {
   "cell_type": "code",
   "execution_count": null,
   "id": "557de246-b668-49b1-94df-d7b410a045d0",
   "metadata": {},
   "outputs": [],
   "source": []
  },
  {
   "cell_type": "code",
   "execution_count": null,
   "id": "e999be72-fe72-4afe-847f-0e662f0209a1",
   "metadata": {},
   "outputs": [],
   "source": []
  },
  {
   "cell_type": "code",
   "execution_count": null,
   "id": "0aa82bee-02c8-4d7b-8286-6fe7b0feb121",
   "metadata": {},
   "outputs": [],
   "source": []
  },
  {
   "cell_type": "code",
   "execution_count": null,
   "id": "02e2851d-781e-455e-83cd-eaa24f11f8cb",
   "metadata": {},
   "outputs": [],
   "source": []
  },
  {
   "cell_type": "code",
   "execution_count": null,
   "id": "90b2a4d9-ffa0-4c39-ab15-5c21361dfdeb",
   "metadata": {},
   "outputs": [],
   "source": []
  },
  {
   "cell_type": "code",
   "execution_count": null,
   "id": "de0dad14-7c81-442a-8879-cf915b96aac2",
   "metadata": {},
   "outputs": [],
   "source": []
  },
  {
   "cell_type": "code",
   "execution_count": null,
   "id": "d81420ee-e8aa-4cf1-8c63-bf3189ea9f72",
   "metadata": {},
   "outputs": [],
   "source": []
  },
  {
   "cell_type": "markdown",
   "id": "12fdb7a8-bd44-470d-9d6f-d5a98c6bfc50",
   "metadata": {},
   "source": [
    "# Balancing\n",
    "\n",
    "The formula for balancing should be:\n",
    "\n",
    "$$ S = G * D - G * P \\frac{\\sum{d_i}}{\\sum{p_i}} $$\n",
    "\n",
    "where:\n",
    "1. $S$ is the sky-reconstructed image.\n",
    "2. $P$ is the bulk array or sensitive array, an array of weights for the detector response.\n",
    "\n",
    "Hence we have to compute the correction on the right-hand side."
   ]
  },
  {
   "cell_type": "code",
   "execution_count": 110,
   "id": "830f174e-6bca-4648-ae4b-f9b6ac8fbd93",
   "metadata": {},
   "outputs": [
    {
     "data": {
      "text/plain": [
       "(array([10., 10., 10.,  0., 10.,  0.,  0.]),\n",
       " array([ 0.,  0.,  0.,  0.,  0.,  0.,  0.,  0.,  0., 10.,  0.,  0.,  0.,\n",
       "         0.,  0.,  0.,  0.,  0.,  0.]))"
      ]
     },
     "execution_count": 110,
     "metadata": {},
     "output_type": "execute_result"
    }
   ],
   "source": [
    "source = np.zeros(len(pcfov_mask) - len(ura_cycle) + 1)\n",
    "\n",
    "source[9] = 10 # defining the source location\n",
    "\n",
    "n = len(source)\n",
    "detector = correlate(pcfov_mask, source)[n-1: -n+1]\n",
    "detector, source"
   ]
  },
  {
   "cell_type": "code",
   "execution_count": 111,
   "id": "e66a9bd4-8a5e-45f8-bf5d-da6e8b919a06",
   "metadata": {},
   "outputs": [],
   "source": [
    "bulk = np.ones(detector.shape)"
   ]
  },
  {
   "cell_type": "code",
   "execution_count": 112,
   "id": "39bb72a1-90fc-4bb9-98d1-a7ef36279a7b",
   "metadata": {},
   "outputs": [],
   "source": [
    "n = len(detector)\n",
    "correction = correlate(pcfov_decoder, bulk)[n-1:-n+1] * np.sum(detector) / np.sum(bulk)"
   ]
  },
  {
   "cell_type": "code",
   "execution_count": 117,
   "id": "35bdbb8b-9258-4f77-a388-80b71f031c7d",
   "metadata": {},
   "outputs": [],
   "source": [
    "n = len(detector)\n",
    "source = correlate(pcfov_decoder, detector)[n-1:-n+1]\n",
    "source_balanced = source - correction"
   ]
  },
  {
   "cell_type": "code",
   "execution_count": 118,
   "id": "ec809502-7dc6-4fc9-85a4-50ba0ba3eab1",
   "metadata": {},
   "outputs": [
    {
     "data": {
      "text/plain": [
       "array([ -5.71428571,   0.        ,  15.71428571, -10.        ,\n",
       "        -5.71428571,  -1.42857143,  -5.71428571,  -5.71428571,\n",
       "        -5.71428571,  34.28571429,  -5.71428571,  -5.71428571,\n",
       "        -5.71428571, -11.42857143,  -5.71428571,  -1.42857143,\n",
       "        12.85714286,   8.57142857,   4.28571429])"
      ]
     },
     "execution_count": 118,
     "metadata": {},
     "output_type": "execute_result"
    }
   ],
   "source": [
    "source_balanced"
   ]
  },
  {
   "cell_type": "code",
   "execution_count": 119,
   "id": "3094d712-f59e-46b3-a46e-3a9097bed7f4",
   "metadata": {},
   "outputs": [],
   "source": [
    "import matplotlib.pyplot as plt"
   ]
  },
  {
   "cell_type": "code",
   "execution_count": 120,
   "id": "e67f2ad4-6e8a-457d-afb0-88d8d9446a97",
   "metadata": {},
   "outputs": [
    {
     "data": {
      "text/plain": [
       "array([  0.,   0.,  10., -10.,   0.,  10.,   0.,   0.,   0.,  40.,   0.,\n",
       "         0.,   0.,   0.,   0.,  10.,  30.,  20.,  10.])"
      ]
     },
     "execution_count": 120,
     "metadata": {},
     "output_type": "execute_result"
    }
   ],
   "source": [
    "source"
   ]
  },
  {
   "cell_type": "code",
   "execution_count": 121,
   "id": "c3b70cd9-4858-4809-86f2-e6ed93883188",
   "metadata": {},
   "outputs": [
    {
     "data": {
      "image/png": "[encoded data removed]",
      "text/plain": [
       "<Figure size 640x480 with 1 Axes>"
      ]
     },
     "metadata": {},
     "output_type": "display_data"
    }
   ],
   "source": [
    "plt.step(np.arange(len(k := source_balanced)), k, where=\"post\"); plt.show()"
   ]
  },
  {
   "cell_type": "code",
   "execution_count": 122,
   "id": "f5bcddff-21d9-47ee-bb91-c9c06ebd8b0b",
   "metadata": {},
   "outputs": [
    {
     "data": {
      "image/png": "[encoded data removed]",
      "text/plain": [
       "<Figure size 640x480 with 1 Axes>"
      ]
     },
     "metadata": {},
     "output_type": "display_data"
    }
   ],
   "source": [
    "plt.step(np.arange(len(k := source)), k, where=\"post\"); plt.show()"
   ]
  },
  {
   "cell_type": "code",
   "execution_count": null,
   "id": "83b404f6-6725-4b65-a997-f2ce175c60b9",
   "metadata": {},
   "outputs": [],
   "source": []
  },
  {
   "cell_type": "code",
   "execution_count": null,
   "id": "e5bdeeb7-d161-42e9-9249-9f2868abe7e7",
   "metadata": {},
   "outputs": [],
   "source": []
  },
  {
   "cell_type": "code",
   "execution_count": null,
   "id": "13d7e303-8f22-42e2-b740-7f3925ae22c3",
   "metadata": {},
   "outputs": [],
   "source": []
  },
  {
   "cell_type": "code",
   "execution_count": 100,
   "id": "acc60fe2-0b77-46a2-ad79-c924652c88fe",
   "metadata": {},
   "outputs": [
    {
     "ename": "SyntaxError",
     "evalue": "invalid syntax (3189479469.py, line 15)",
     "output_type": "error",
     "traceback": [
      "\u001b[0;36m  Cell \u001b[0;32mIn[100], line 15\u001b[0;36m\u001b[0m\n\u001b[0;31m    detImage[\"image\"] -> detector image\u001b[0m\n\u001b[0m                      ^\u001b[0m\n\u001b[0;31mSyntaxError\u001b[0m\u001b[0;31m:\u001b[0m invalid syntax\n"
     ]
    }
   ],
   "source": [
    "imgSum = detImage[\"image\"].sum()\n",
    "sensSum = arrObj[\"sens\"].sum()\n",
    "imgCorr = correlate(detImage[\"image\"], arrObj[\"rmatrix\"], mode=\"same\", method=\"fft\")\n",
    "sensCorr = correlate(arrObj[\"sens\"], arrObj[\"rmatrix\"], mode=\"same\", method=\"fft\")\n",
    "imgCorr2 = correlate(detImage[\"image\"], arrObj[\"rmatrix\"] ** 2, mode=\"same\", method=\"fft\")\n",
    "### Counts\n",
    "skyBal = imgCorr - sensCorr * imgSum / sensSum\n",
    "### Variance\n",
    "skyBalVar = imgCorr2 + imgSum * sensCorr**2 / sensSum**2 - 2 * imgCorr * sensCorr / sensSum\n",
    "### Significance\n",
    "skyBalSign = skyBal / np.sqrt(skyBalVar)\n",
    "skyBalSign[np.isnan(skyBalSign)] = 0\n",
    "\n",
    "\n",
    "detImage[\"image\"] -> detector image\n",
    "arrObj[\"rmatrix\"] -> reconstruction matrix\n",
    "arrObj[\"sens\"] -> sensitive array o bulk array"
   ]
  },
  {
   "cell_type": "code",
   "execution_count": null,
   "id": "5f9fc1a2-2d22-4e87-8964-ff7faa01e13c",
   "metadata": {},
   "outputs": [],
   "source": []
  },
  {
   "cell_type": "code",
   "execution_count": null,
   "id": "4da240fd-b86f-463a-ae02-4780bb64d5df",
   "metadata": {},
   "outputs": [],
   "source": []
  },
  {
   "cell_type": "code",
   "execution_count": null,
   "id": "94706077-65dc-4f6c-86bb-fc552a92a011",
   "metadata": {},
   "outputs": [],
   "source": []
  }
 ],
 "metadata": {
  "kernelspec": {
   "display_name": "Python 3 (ipykernel)",
   "language": "python",
   "name": "python3"
  },
  "language_info": {
   "codemirror_mode": {
    "name": "ipython",
    "version": 3
   },
   "file_extension": ".py",
   "mimetype": "text/x-python",
   "name": "python",
   "nbconvert_exporter": "python",
   "pygments_lexer": "ipython3",
   "version": "3.12.7"
  }
 },
 "nbformat": 4,
 "nbformat_minor": 5
}
