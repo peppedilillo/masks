{
 "cells": [
  {
   "cell_type": "code",
   "execution_count": 25,
   "id": "8f0481d1",
   "metadata": {},
   "outputs": [],
   "source": [
    "import numpy as np\n",
    "import matplotlib.pyplot as plt"
   ]
  },
  {
   "cell_type": "markdown",
   "id": "ae8ee6b9",
   "metadata": {},
   "source": [
    "# Two-dimensional masks"
   ]
  },
  {
   "cell_type": "markdown",
   "id": "cba7c187",
   "metadata": {},
   "source": [
    "In this notebook we move from 1-dimensional masks to 2-dimensional ones translating the function we defined in the previous notebook."
   ]
  },
  {
   "cell_type": "code",
   "execution_count": 26,
   "id": "c5a64266",
   "metadata": {},
   "outputs": [],
   "source": [
    "from sympy.ntheory.primetest import isprime\n",
    "from scipy.signal import correlate\n",
    "\n",
    "def ura(r, s, m=1):\n",
    "    assert(isprime(r))\n",
    "    assert(isprime(s))\n",
    "    assert(r - s == 2)\n",
    "    \n",
    "    C_r_I = np.zeros(r) - 1\n",
    "    C_s_J = np.zeros(s) - 1\n",
    "    for x in range(1, r):\n",
    "        C_r_I[x**2 % r] = 1\n",
    "    for y in range(1, s):\n",
    "        C_s_J[y**2 % s] = 1\n",
    "\n",
    "    A_IJ = np.zeros([r,s])\n",
    "    for I in range(r):\n",
    "        for J in range(s):\n",
    "            if I == 0:\n",
    "                A_IJ[I,J] = 0\n",
    "            elif J == 0:\n",
    "                A_IJ[I,J] = 1\n",
    "            elif C_r_I[I] * C_s_J[J] == 1:\n",
    "                A_IJ[I,J] = 1\n",
    "\n",
    "    A_ij = np.zeros([m*r,m*s])\n",
    "    for i in range(m*r):\n",
    "        for j in range(m*s):\n",
    "            A_ij[i,j] = A_IJ[i%r,j%s]\n",
    "    A_ij = np.roll(A_ij, int((r+1)/2), axis=0)\n",
    "    A_ij = np.roll(A_ij, int((s+1)/2), axis=1)\n",
    "    \n",
    "    G_ij = A_ij.copy()\n",
    "    G_ij[G_ij == 0] = -1\n",
    "    return A_ij, G_ij\n",
    "\n",
    "def _pad(A):\n",
    "    ws = [int(dim/2) for dim in A.shape]\n",
    "    return np.pad(\n",
    "        A, \n",
    "        pad_width= [(int(dim/2), int(dim/2)) for dim in A.shape], \n",
    "        mode = \"wrap\",\n",
    "    )\n",
    "\n",
    "def absorbed(photons, A):\n",
    "    _A = _pad(A)\n",
    "    dirx, diry, impx, impy = photons.T\n",
    "    return _A[dirx + impx, diry + impy] == 0\n",
    "\n",
    "def transport(photons, A):\n",
    "    mask_size = A.shape\n",
    "    transmitted = photons[~absorbed(photons, A)]\n",
    "    detector, *_ = np.histogram2d(\n",
    "        x = transmitted[:, 2],\n",
    "        y = transmitted[:, 3],\n",
    "        bins=[\n",
    "            np.arange(mask_size[0] + 1), \n",
    "            np.arange(mask_size[1] + 1)\n",
    "        ]\n",
    "    )\n",
    "    return detector\n",
    "\n",
    "def decode(detector, G):\n",
    "    n, m = detector.shape\n",
    "    return correlate(_pad(G), detector)[n-1: -n+1, m-1: -m+1]"
   ]
  },
  {
   "cell_type": "markdown",
   "id": "2fdebca5",
   "metadata": {},
   "source": [
    "## Sanity check\n"
   ]
  },
  {
   "cell_type": "markdown",
   "id": "642f93f0",
   "metadata": {},
   "source": [
    "We generate an URA mask."
   ]
  },
  {
   "cell_type": "code",
   "execution_count": 27,
   "id": "bb80a33e",
   "metadata": {},
   "outputs": [],
   "source": [
    "mask_size = (7,5)\n",
    "A, G = ura(*mask_size) "
   ]
  },
  {
   "cell_type": "code",
   "execution_count": 28,
   "id": "cce0bd5b",
   "metadata": {},
   "outputs": [
    {
     "data": {
      "image/png": "[encoded data removed]",
      "text/plain": [
       "<Figure size 640x480 with 1 Axes>"
      ]
     },
     "metadata": {},
     "output_type": "display_data"
    }
   ],
   "source": [
    "plt.imshow(_pad(A))\n",
    "plt.show()"
   ]
  },
  {
   "cell_type": "markdown",
   "id": "1468331b",
   "metadata": {},
   "source": [
    "To check that code is fine we simulate a simple source, build the detector image and check the decoded image to match the source."
   ]
  },
  {
   "cell_type": "code",
   "execution_count": 32,
   "id": "e04b0be9",
   "metadata": {},
   "outputs": [],
   "source": [
    "from scipy.stats import poisson, norm\n",
    "\n",
    "bkg_rate = 1\n",
    "nbackground = bkg_rate * np.prod(mask_size)\n",
    "\n",
    "background_photons = np.dstack(\n",
    "    (np.random.randint(mask_size[0], size=nbackground),\n",
    "    np.random.randint(mask_size[1], size=nbackground)),\n",
    ")[0]\n",
    "background_counts, *_ = np.histogram2d(\n",
    "    background_photons[:,0], \n",
    "    background_photons[:,1], \n",
    "    bins=[np.arange(mask_size[0] + 1),np.arange(mask_size[1] + 1)],\n",
    ")\n",
    "source = background_counts"
   ]
  },
  {
   "cell_type": "code",
   "execution_count": 33,
   "id": "95fd8d6d",
   "metadata": {},
   "outputs": [
    {
     "data": {
      "text/plain": [
       "True"
      ]
     },
     "execution_count": 33,
     "metadata": {},
     "output_type": "execute_result"
    }
   ],
   "source": [
    "def _det(source, A):\n",
    "    n, m = A.shape\n",
    "    norm = np.sum(A[A==1])\n",
    "    detector = correlate(_pad(A), source)[n-1: -n+1, m-1: -m+1] / norm\n",
    "    return detector\n",
    "\n",
    "np.allclose(decode(_det(source,A), G), source)"
   ]
  },
  {
   "cell_type": "markdown",
   "id": "96f82dce",
   "metadata": {},
   "source": [
    "Moreover, the mask's PSF is a delta over the detector area."
   ]
  },
  {
   "cell_type": "code",
   "execution_count": 34,
   "id": "0fda76c7",
   "metadata": {},
   "outputs": [
    {
     "data": {
      "image/png": "[encoded data removed]",
      "text/plain": [
       "<Figure size 640x480 with 2 Axes>"
      ]
     },
     "metadata": {},
     "output_type": "display_data"
    }
   ],
   "source": [
    "def _corr(A, G):\n",
    "    n, m = A.shape\n",
    "    return correlate(_pad(G), A)[n-1: -n+1, m-1: -m+1]\n",
    "\n",
    "plt.imshow(_corr(A, G))\n",
    "plt.colorbar()\n",
    "plt.show()"
   ]
  },
  {
   "cell_type": "markdown",
   "id": "5906fbfb",
   "metadata": {},
   "source": [
    "## Detector simulation"
   ]
  },
  {
   "cell_type": "code",
   "execution_count": 8,
   "id": "4080c27c",
   "metadata": {},
   "outputs": [],
   "source": [
    "def generate_photons(n: int, A: np.array, direction: np.array):\n",
    "    mask_size = A.shape\n",
    "    if type(direction) is str and direction == \"random\":\n",
    "        ps = np.dstack(\n",
    "            (\n",
    "                np.random.randint(mask_size[0], size=n),\n",
    "                np.random.randint(mask_size[1], size=n),\n",
    "                np.random.randint(mask_size[0], size=n),\n",
    "                np.random.randint(mask_size[1], size=n),\n",
    "            )\n",
    "        )[0] \n",
    "    else:\n",
    "        ps = np.dstack(\n",
    "            (\n",
    "                *(direction * np.ones((n, 2))).T, \n",
    "                np.random.randint(mask_size[0], size=n),\n",
    "                np.random.randint(mask_size[1], size=n),\n",
    "            )\n",
    "        )[0]\n",
    "    return ps.astype(int)"
   ]
  },
  {
   "cell_type": "code",
   "execution_count": 9,
   "id": "83445a40",
   "metadata": {},
   "outputs": [],
   "source": [
    "bkg_rate = 0\n",
    "\n",
    "nbackground = bkg_rate * np.prod(mask_size)\n",
    "background_photons = generate_photons(nbackground, A, \"random\")"
   ]
  },
  {
   "cell_type": "code",
   "execution_count": 36,
   "id": "b94eeb3f",
   "metadata": {},
   "outputs": [],
   "source": [
    "nsignals = np.linspace(3, 0, num=1, dtype=int)\n",
    "\n",
    "signal_dirs = np.dstack([\n",
    "    np.random.randint(mask_size[0], size=len(nsignals)),\n",
    "    np.random.randint(mask_size[1], size=len(nsignals)),\n",
    "])[0]\n",
    "signal_photons = np.concatenate(\n",
    "    [\n",
    "        generate_photons(nsignal, A, signal_dir) \n",
    "        for (nsignal, signal_dir) in zip(nsignals, signal_dirs)\n",
    "    ]\n",
    ")"
   ]
  },
  {
   "cell_type": "code",
   "execution_count": 37,
   "id": "f077dd29",
   "metadata": {},
   "outputs": [],
   "source": [
    "photons = np.concatenate((background_photons, signal_photons))\n",
    "detector = transport(photons, A)"
   ]
  },
  {
   "cell_type": "code",
   "execution_count": 38,
   "id": "1b22126f",
   "metadata": {},
   "outputs": [
    {
     "data": {
      "image/png": "[encoded data removed]",
      "text/plain": [
       "<Figure size 1200x500 with 6 Axes>"
      ]
     },
     "metadata": {},
     "output_type": "display_data"
    }
   ],
   "source": [
    "def _src(photons, A):\n",
    "    transmitted = photons[~absorbed(photons, A)]\n",
    "    counts, *_ = np.histogram2d(\n",
    "        x = transmitted[:, 0],\n",
    "        y = transmitted[:, 1],\n",
    "        bins=[\n",
    "            np.arange(mask_size[0] + 1), \n",
    "            np.arange(mask_size[1] + 1)\n",
    "        ]\n",
    "    )\n",
    "    return counts\n",
    "\n",
    "fig, axs = plt.subplots(1, 3, figsize=(12,5) )\n",
    "\n",
    "c0 = axs[0].imshow(_src(photons, A))\n",
    "fig.colorbar(c0, ax=axs[0], location=\"bottom\", label=\"Counts\")\n",
    "axs[0].set_title(\"True\")\n",
    "\n",
    "c1 = axs[1].imshow(detector)\n",
    "fig.colorbar(c1, ax=axs[1], location=\"bottom\", label=\"Counts\")\n",
    "axs[1].set_title(\"Detector\")\n",
    "\n",
    "decoded = decode(detector, G)\n",
    "c2 = axs[2].imshow(decoded)\n",
    "fig.colorbar(c2, ax=axs[2], location=\"bottom\", label=\"Correlation\")\n",
    "axs[2].set_title(\"Decoded\")\n",
    "\n",
    "plt.show()"
   ]
  },
  {
   "cell_type": "code",
   "execution_count": null,
   "id": "82f65ea1",
   "metadata": {},
   "outputs": [],
   "source": []
  }
 ],
 "metadata": {
  "kernelspec": {
   "display_name": "Python 3 (ipykernel)",
   "language": "python",
   "name": "python3"
  },
  "language_info": {
   "codemirror_mode": {
    "name": "ipython",
    "version": 3
   },
   "file_extension": ".py",
   "mimetype": "text/x-python",
   "name": "python",
   "nbconvert_exporter": "python",
   "pygments_lexer": "ipython3",
   "version": "3.11.4"
  }
 },
 "nbformat": 4,
 "nbformat_minor": 5
}
